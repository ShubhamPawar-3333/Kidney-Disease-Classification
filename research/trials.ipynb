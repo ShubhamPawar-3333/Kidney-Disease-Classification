{
 "cells": [
  {
   "cell_type": "code",
   "execution_count": 4,
   "metadata": {},
   "outputs": [],
   "source": [
    "import gdown"
   ]
  },
  {
   "cell_type": "code",
   "execution_count": 5,
   "metadata": {},
   "outputs": [],
   "source": [
    "URL = \"https://drive.google.com/file/d/1UOzRoY84CgkBZtjGP_RwnaN3Qj2yQMrC/view?usp=sharing\"\n",
    "PREFIX = \"https://drive.google.com/uc?/export=download&id=\"\n",
    "FILE_NAME = \"Kidney-ct-scan-data.zip\""
   ]
  },
  {
   "cell_type": "code",
   "execution_count": 6,
   "metadata": {},
   "outputs": [
    {
     "name": "stderr",
     "output_type": "stream",
     "text": [
      "Downloading...\n",
      "From (uriginal): https://drive.google.com/uc?/export=download&id=1UOzRoY84CgkBZtjGP_RwnaN3Qj2yQMrC\n",
      "From (redirected): https://drive.google.com/uc?/export=download&id=1UOzRoY84CgkBZtjGP_RwnaN3Qj2yQMrC&confirm=t&uuid=d4abfad9-3679-4b13-8c2c-3dcd8b15db98\n",
      "To: d:\\Machine Learning Projects\\Kidney_disease_classification_project\\research\\Kidney-ct-scan-data.zip\n",
      "100%|██████████| 1.63G/1.63G [04:21<00:00, 6.24MB/s]\n"
     ]
    }
   ],
   "source": [
    "def id_extractor(url):\n",
    "    return url.split(\"/\")[-2]\n",
    "\n",
    "def load_dataset(file_id, prefix, name):\n",
    "    gdown.download(prefix+file_id, name)\n",
    "    \n",
    "load_dataset(id_extractor(url=URL), prefix=PREFIX, name=FILE_NAME)"
   ]
  },
  {
   "cell_type": "code",
   "execution_count": null,
   "metadata": {},
   "outputs": [],
   "source": []
  },
  {
   "cell_type": "code",
   "execution_count": null,
   "metadata": {},
   "outputs": [],
   "source": []
  },
  {
   "cell_type": "code",
   "execution_count": null,
   "metadata": {},
   "outputs": [],
   "source": []
  },
  {
   "cell_type": "code",
   "execution_count": null,
   "metadata": {},
   "outputs": [],
   "source": []
  },
  {
   "cell_type": "code",
   "execution_count": null,
   "metadata": {},
   "outputs": [],
   "source": []
  }
 ],
 "metadata": {
  "kernelspec": {
   "display_name": "Python 3",
   "language": "python",
   "name": "python3"
  },
  "language_info": {
   "codemirror_mode": {
    "name": "ipython",
    "version": 3
   },
   "file_extension": ".py",
   "mimetype": "text/x-python",
   "name": "python",
   "nbconvert_exporter": "python",
   "pygments_lexer": "ipython3",
   "version": "3.11.0"
  },
  "orig_nbformat": 4,
  "vscode": {
   "interpreter": {
    "hash": "d9ed95ef2821471414c7250140d4581456d829fff8a92f27173a8bf06fe1132a"
   }
  }
 },
 "nbformat": 4,
 "nbformat_minor": 2
}
